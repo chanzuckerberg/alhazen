{
 "cells": [
  {
   "cell_type": "markdown",
   "metadata": {},
   "source": [
    "# Demos and investigations of MLC library usage.\n",
    "\n",
    "> A LangChain agent for analysis of the scientific literature. Here, we put all generalizable and utilty functions for various submodules.  "
   ]
  },
  {
   "cell_type": "code",
   "execution_count": null,
   "metadata": {},
   "outputs": [],
   "source": [
    "from nbdev.showdoc import *"
   ]
  },
  {
   "cell_type": "code",
   "execution_count": null,
   "metadata": {},
   "outputs": [],
   "source": [
    "from langchain.chat_models import ChatOpenAI\n",
    "from langchain import LLMChain, PromptTemplate\n",
    "from langchain.memory import ConversationBufferWindowMemory\n",
    "from langchain.callbacks.streaming_stdout import StreamingStdOutCallbackHandler\n",
    "from langchain.document_loaders import TextLoader\n",
    "from langchain.chains.question_answering import load_qa_chain\n",
    "from langchain.llms import OpenAI\n",
    "import os"
   ]
  },
  {
   "cell_type": "code",
   "execution_count": null,
   "metadata": {},
   "outputs": [
    {
     "name": "stdout",
     "output_type": "stream",
     "text": [
      "\n",
      "\n",
      "\u001b[1m> Entering new LLMChain chain...\u001b[0m\n",
      "Prompt after formatting:\n",
      "\u001b[32;1m\u001b[1;3m\n",
      "    \n",
      "    USER: Write a shakespearean sonnet about single cell biology.\n",
      "    ASSISTANT:\u001b[0m\n",
      "In single cell biology, we see the grace\n",
      "Of life's smallest units, in their place\n",
      "A world of wonder, in a tiny space\n",
      "Where cells divide, and their fate embrace\n",
      "\n",
      "Their cycles, like the tides, ebb and flow\n",
      "In rhythm, with a will to grow and know\n",
      "Their secrets, hidden, yet to be shown\n",
      "In this tiny realm, a story unfolds\n",
      "\n",
      "A tale of life, and death, and life again\n",
      "Where cells, like stars, are born and spin\n",
      "Their dance, a symphony of life and strife\n",
      "A single cell, a universe in strife\n",
      "\n",
      "Yet, in this strife, a beauty lies\n",
      "A testament to nature's subtle guise\n",
      "A world of wonder, in a single cell\n",
      "A universe, in miniature, to enthrall.\n",
      "\u001b[1m> Finished chain.\u001b[0m\n"
     ]
    },
    {
     "ename": "RuntimeError",
     "evalue": "Error loading ../resources/linux.txt",
     "output_type": "error",
     "traceback": [
      "\u001b[0;31m---------------------------------------------------------------------------\u001b[0m",
      "\u001b[0;31mFileNotFoundError\u001b[0m                         Traceback (most recent call last)",
      "File \u001b[0;32m~/miniconda3/envs/alhazen/lib/python3.11/site-packages/langchain/document_loaders/text.py:40\u001b[0m, in \u001b[0;36mTextLoader.load\u001b[0;34m(self)\u001b[0m\n\u001b[1;32m     39\u001b[0m \u001b[39mtry\u001b[39;00m:\n\u001b[0;32m---> 40\u001b[0m     \u001b[39mwith\u001b[39;00m \u001b[39mopen\u001b[39;49m(\u001b[39mself\u001b[39;49m\u001b[39m.\u001b[39;49mfile_path, encoding\u001b[39m=\u001b[39;49m\u001b[39mself\u001b[39;49m\u001b[39m.\u001b[39;49mencoding) \u001b[39mas\u001b[39;00m f:\n\u001b[1;32m     41\u001b[0m         text \u001b[39m=\u001b[39m f\u001b[39m.\u001b[39mread()\n",
      "\u001b[0;31mFileNotFoundError\u001b[0m: [Errno 2] No such file or directory: '../resources/linux.txt'",
      "\nThe above exception was the direct cause of the following exception:\n",
      "\u001b[0;31mRuntimeError\u001b[0m                              Traceback (most recent call last)",
      "Cell \u001b[0;32mIn[7], line 55\u001b[0m\n\u001b[1;32m     53\u001b[0m os\u001b[39m.\u001b[39menviron[\u001b[39m\"\u001b[39m\u001b[39mOPENAI_API_KEY\u001b[39m\u001b[39m\"\u001b[39m] \u001b[39m=\u001b[39m \u001b[39m\"\u001b[39m\u001b[39mEMPTY\u001b[39m\u001b[39m\"\u001b[39m\n\u001b[1;32m     54\u001b[0m llm_chain_example()\n\u001b[0;32m---> 55\u001b[0m load_qa_chain_example()\n",
      "Cell \u001b[0;32mIn[7], line 46\u001b[0m, in \u001b[0;36mload_qa_chain_example\u001b[0;34m()\u001b[0m\n\u001b[1;32m     44\u001b[0m \u001b[39mdef\u001b[39;00m \u001b[39mload_qa_chain_example\u001b[39m():\n\u001b[1;32m     45\u001b[0m     loader \u001b[39m=\u001b[39m TextLoader(\u001b[39m'\u001b[39m\u001b[39m../resources/linux.txt\u001b[39m\u001b[39m'\u001b[39m)\n\u001b[0;32m---> 46\u001b[0m     documents \u001b[39m=\u001b[39m loader\u001b[39m.\u001b[39;49mload()\n\u001b[1;32m     47\u001b[0m     chain \u001b[39m=\u001b[39m load_qa_chain(llm\u001b[39m=\u001b[39mOpenAI(), chain_type\u001b[39m=\u001b[39m\u001b[39m\"\u001b[39m\u001b[39mstuff\u001b[39m\u001b[39m\"\u001b[39m, verbose\u001b[39m=\u001b[39m\u001b[39mFalse\u001b[39;00m)\n\u001b[1;32m     48\u001b[0m     query \u001b[39m=\u001b[39m \u001b[39m\"\u001b[39m\u001b[39mWhen was Linux released?\u001b[39m\u001b[39m\"\u001b[39m\n",
      "File \u001b[0;32m~/miniconda3/envs/alhazen/lib/python3.11/site-packages/langchain/document_loaders/text.py:56\u001b[0m, in \u001b[0;36mTextLoader.load\u001b[0;34m(self)\u001b[0m\n\u001b[1;32m     54\u001b[0m         \u001b[39mraise\u001b[39;00m \u001b[39mRuntimeError\u001b[39;00m(\u001b[39mf\u001b[39m\u001b[39m\"\u001b[39m\u001b[39mError loading \u001b[39m\u001b[39m{\u001b[39;00m\u001b[39mself\u001b[39m\u001b[39m.\u001b[39mfile_path\u001b[39m}\u001b[39;00m\u001b[39m\"\u001b[39m) \u001b[39mfrom\u001b[39;00m \u001b[39me\u001b[39;00m\n\u001b[1;32m     55\u001b[0m \u001b[39mexcept\u001b[39;00m \u001b[39mException\u001b[39;00m \u001b[39mas\u001b[39;00m e:\n\u001b[0;32m---> 56\u001b[0m     \u001b[39mraise\u001b[39;00m \u001b[39mRuntimeError\u001b[39;00m(\u001b[39mf\u001b[39m\u001b[39m\"\u001b[39m\u001b[39mError loading \u001b[39m\u001b[39m{\u001b[39;00m\u001b[39mself\u001b[39m\u001b[39m.\u001b[39mfile_path\u001b[39m}\u001b[39;00m\u001b[39m\"\u001b[39m) \u001b[39mfrom\u001b[39;00m \u001b[39me\u001b[39;00m\n\u001b[1;32m     58\u001b[0m metadata \u001b[39m=\u001b[39m {\u001b[39m\"\u001b[39m\u001b[39msource\u001b[39m\u001b[39m\"\u001b[39m: \u001b[39mself\u001b[39m\u001b[39m.\u001b[39mfile_path}\n\u001b[1;32m     59\u001b[0m \u001b[39mreturn\u001b[39;00m [Document(page_content\u001b[39m=\u001b[39mtext, metadata\u001b[39m=\u001b[39mmetadata)]\n",
      "\u001b[0;31mRuntimeError\u001b[0m: Error loading ../resources/linux.txt"
     ]
    }
   ],
   "source": [
    "# First set the following in your environment:\n",
    "# export OPENAI_API_BASE=http://127.0.0.1:8000/v1\n",
    "# export OPENAI_API_KEY=EMPTY\n",
    "\n",
    "# Note that Langchain does not currently support Pydantic v2:\n",
    "# https://github.com/langchain-ai/langchain/issues/6841\n",
    "# Please ensure that your `pydantic` version is < 2.0\n",
    "\n",
    "class color:\n",
    "   PURPLE = '\\033[95m'\n",
    "   CYAN = '\\033[96m'\n",
    "   DARKCYAN = '\\033[36m'\n",
    "   BLUE = '\\033[94m'\n",
    "   GREEN = '\\033[92m'\n",
    "   YELLOW = '\\033[93m'\n",
    "   RED = '\\033[91m'\n",
    "   BOLD = '\\033[1m'\n",
    "   UNDERLINE = '\\033[4m'\n",
    "   END = '\\033[0m'\n",
    "\n",
    "def llm_chain_example():\n",
    "    template = \"\"\"\n",
    "    {history}\n",
    "    USER: {human_input}\n",
    "    ASSISTANT:\"\"\"\n",
    "\n",
    "    prompt = PromptTemplate(\n",
    "        input_variables=[\"history\", \"human_input\"],\n",
    "        template=template\n",
    "    )\n",
    "\n",
    "    llm_chain = LLMChain(\n",
    "        llm=ChatOpenAI(streaming=True, callbacks=[StreamingStdOutCallbackHandler()]),\n",
    "        prompt=prompt,\n",
    "        verbose=True,\n",
    "        memory=ConversationBufferWindowMemory(human_prefix=\"USER\", ai_prefix=\"ASSISTANT\")\n",
    "    )\n",
    "\n",
    "    output = llm_chain.predict(human_input=\"Write a shakespearean sonnet about single cell biology.\")\n",
    "    #output = llm_chain.predict(human_input=\"What does it mean?\")\n",
    "\n",
    "def load_qa_chain_example():\n",
    "    loader = TextLoader('../resources/linux.txt')\n",
    "    documents = loader.load()\n",
    "    chain = load_qa_chain(llm=OpenAI(), chain_type=\"stuff\", verbose=False)\n",
    "    query = \"When was Linux released?\"\n",
    "    print(f\"{color.BOLD}Query:{color.END} {color.BLUE} {query}{color.END}\")\n",
    "    print(f\"{color.BOLD}Response:{color.END} {color.GREEN}{chain.run(input_documents=documents, question=query)}{color.END}\")\n",
    "\n",
    "os.environ[\"OPENAI_API_BASE\"] = \"http://127.0.0.1:8000/v1\"\n",
    "os.environ[\"OPENAI_API_KEY\"] = \"EMPTY\"\n",
    "llm_chain_example()\n",
    "load_qa_chain_example()\n"
   ]
  }
 ],
 "metadata": {
  "kernelspec": {
   "display_name": "python3",
   "language": "python",
   "name": "python3"
  }
 },
 "nbformat": 4,
 "nbformat_minor": 4
}
