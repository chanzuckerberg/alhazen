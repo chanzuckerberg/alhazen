{
 "cells": [
  {
   "cell_type": "markdown",
   "metadata": {},
   "source": [
    "# Hack to fix errors in the SQL Alchemy python library  \n",
    "\n",
    "> A very lightweight script to be run on `sqla` code that has been freshly generated from LinkML. This adds polymorphism to children of InformationContentEntity classes and adds primaryjoin/secondaryjoin to self-referential relationships."
   ]
  },
  {
   "cell_type": "code",
   "execution_count": null,
   "metadata": {},
   "outputs": [],
   "source": [
    "#| default_exp hacks.sqla_fixes"
   ]
  },
  {
   "cell_type": "code",
   "execution_count": 1,
   "metadata": {},
   "outputs": [],
   "source": [
    "#| export\n",
    "\n",
    "import os\n",
    "import re\n",
    "import local_resources.linkml as linkml\n",
    "from importlib_resources import files"
   ]
  },
  {
   "cell_type": "code",
   "execution_count": 3,
   "metadata": {},
   "outputs": [],
   "source": [
    "#| export\n",
    "\n",
    "sqla_source_code = files(linkml).joinpath('schema_sqla.py').read_text()\n",
    "\n",
    "source = '''has_notes = relationship\\( \"Note\", secondary=\"Note_has_notes\"\\)'''\n",
    "target = '''has_notes = relationship( \"Note\", \n",
    "                             secondary=\"Note_has_notes\", \n",
    "                             primaryjoin=\"Note.id==Note_has_notes.c.Note_id\",\n",
    "                             secondaryjoin=\"Note.id==Note_has_notes.c.has_notes_id\",\n",
    "                             back_populates=\"is_about\")'''\n",
    "if re.search(source, sqla_source_code):\n",
    "    sqla_source_code = re.sub(source, target, sqla_source_code)\n",
    "\n"
   ]
  },
  {
   "cell_type": "code",
   "execution_count": 4,
   "metadata": {},
   "outputs": [],
   "source": [
    "#| export\n",
    "\n",
    "source = '''(return f\"InformationContentEntity\\\\(creation_date={.*\\n+\\s+#.*\\n\\s+__mapper_args__ = )(\\{\\n.*?\\n\\s+\\})\\n'''\n",
    "target = '''\\g<1>{\n",
    "        'concrete': True,\n",
    "        'polymorphic_on': type,\n",
    "        \"polymorphic_identity\": \"InformationContentEntity\",\n",
    "    }'''\n",
    "if re.search(source, sqla_source_code, re.MULTILINE):\n",
    "    sqla_source_code = re.sub(source, target, sqla_source_code, re.MULTILINE)\n"
   ]
  },
  {
   "cell_type": "code",
   "execution_count": 7,
   "metadata": {},
   "outputs": [],
   "source": [
    "#| export\n",
    "\n",
    "source = '''(return f\"<<<SUBHERE>>>\\\\(.*\\n+\\s+#.*\\n\\s+__mapper_args__ = )(\\{\\n.*?\\n\\s+\\})\\n'''\n",
    "target = '''\\g<1>{\n",
    "        'concrete': True,\n",
    "        \"polymorphic_identity\": \"<<<SUBHERE>>>\",\n",
    "    }'''\n",
    "classes_to_edit = ['Note', \n",
    "                   'ScientificKnowledgeCollection', \n",
    "                   'ScientificKnowledgeExpression', \n",
    "                   'ScientificKnowledgeFragment',\n",
    "                   'ScientificKnowledgeItem']\n",
    "for c in classes_to_edit:\n",
    "    s = source.replace('<<<SUBHERE>>>', c)\n",
    "    t = target.replace('<<<SUBHERE>>>', c)\n",
    "    if re.search(s, sqla_source_code, re.MULTILINE):\n",
    "        sqla_source_code = re.sub(s, t, sqla_source_code, re.MULTILINE)"
   ]
  },
  {
   "cell_type": "code",
   "execution_count": 8,
   "metadata": {},
   "outputs": [],
   "source": [
    "#| export\n",
    "\n",
    "source = '''has_notes = relationship\\( \"Note\", secondary=\"<<<SUBHERE>>>_has_notes\"\\)\\n'''\n",
    "target = '''has_notes = relationship( \"Note\", secondary=\"<<<SUBHERE>>>_has_notes\", back_populates=\"is_about\")\\n'''\n",
    "classes_to_edit = ['InformationContentEntity',\n",
    "                   'Note', \n",
    "                   'ScientificKnowledgeCollection', \n",
    "                   'ScientificKnowledgeExpression', \n",
    "                   'ScientificKnowledgeFragment',\n",
    "                   'ScientificKnowledgeItem']\n",
    "for c in classes_to_edit:\n",
    "    s = source.replace('<<<SUBHERE>>>', c)\n",
    "    t = target.replace('<<<SUBHERE>>>', c)\n",
    "    if re.search(s, sqla_source_code, re.MULTILINE):\n",
    "        sqla_source_code = re.sub(s, t, sqla_source_code, re.MULTILINE)"
   ]
  },
  {
   "cell_type": "code",
   "execution_count": 9,
   "metadata": {},
   "outputs": [],
   "source": [
    "#| export\n",
    "\n",
    "source = '''is_about = relationship\\( \"InformationContentEntity\", secondary=\"Note_is_about\"\\)'''\n",
    "target = '''is_about = relationship( \"InformationContentEntity\", secondary=\"Note_is_about\", back_populates=\"has_notes\")'''\n",
    "if re.search(source, sqla_source_code, re.MULTILINE):\n",
    "    sqla_source_code = re.sub(source, target, sqla_source_code, re.MULTILINE)"
   ]
  },
  {
   "cell_type": "code",
   "execution_count": 10,
   "metadata": {},
   "outputs": [
    {
     "data": {
      "text/plain": [
       "39684"
      ]
     },
     "execution_count": 10,
     "metadata": {},
     "output_type": "execute_result"
    }
   ],
   "source": [
    "#| export\n",
    "\n",
    "os.rename(files(linkml).joinpath('schema_sqla.py'), files(linkml).joinpath('schema_sqla_original.py'))\n",
    "files(linkml).joinpath('schema_sqla.py').write_text(sqla_source_code)"
   ]
  }
 ],
 "metadata": {
  "kernelspec": {
   "display_name": "alhazen",
   "language": "python",
   "name": "python3"
  },
  "language_info": {
   "codemirror_mode": {
    "name": "ipython",
    "version": 3
   },
   "file_extension": ".py",
   "mimetype": "text/x-python",
   "name": "python",
   "nbconvert_exporter": "python",
   "pygments_lexer": "ipython3",
   "version": "3.11.4"
  }
 },
 "nbformat": 4,
 "nbformat_minor": 2
}
