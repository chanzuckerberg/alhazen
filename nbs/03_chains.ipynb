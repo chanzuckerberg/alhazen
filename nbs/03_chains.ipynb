{
 "cells": [
  {
   "cell_type": "markdown",
   "metadata": {},
   "source": [
    "# Chains\n",
    "\n",
    "> Chains are workflows that execute LLM based functionality for agents (or as part of the infrastructure generally).  "
   ]
  },
  {
   "cell_type": "code",
   "execution_count": 1,
   "metadata": {},
   "outputs": [],
   "source": [
    "#| default_exp chains"
   ]
  },
  {
   "cell_type": "code",
   "execution_count": null,
   "metadata": {},
   "outputs": [],
   "source": [
    "#| hide\n",
    "from nbdev.showdoc import *"
   ]
  },
  {
   "cell_type": "code",
   "execution_count": 4,
   "metadata": {},
   "outputs": [],
   "source": [
    "#| export  \n",
    "from langchain.prompts import PromptTemplate\n",
    "from alhazen.models import instantiate_llms\n",
    "import dataclasses\n",
    "from enum import auto, Enum\n",
    "from typing import List, Tuple, Any, Dict\n",
    "import alhazen_resources\n",
    "from importlib_resources import files\n",
    "import yaml \n"
   ]
  },
  {
   "cell_type": "code",
   "execution_count": 6,
   "metadata": {},
   "outputs": [],
   "source": [
    "#| export\n",
    "\n",
    "\n",
    "@dataclasses.dataclass\n",
    "class TaskInstruction:\n",
    "    \"\"\"A class that provides structure for task instructions (to be converted to LangChain PromptTemplates).\"\"\"\n",
    "\n",
    "    # The name of this instruction template\n",
    "    name: str\n",
    "\n",
    "    # The type of this instruction template\n",
    "    instruction_type: str\n",
    "\n",
    "    # System prompts\n",
    "    system: str\n",
    "\n",
    "    # Instruction prompts\n",
    "    instruction: str\n",
    "    \n",
    "    # The input variables that this instruction template requires\n",
    "    input_variables: List[str] = dataclasses.field(default_factory=list)\n",
    "\n",
    "    def generate_prompt_template(self) -> PromptTemplate:\n",
    "        return PromptTemplate(\n",
    "            input_variables=self.input_variables, \n",
    "            template=self.system + '\\n' +self.instruction\n",
    "        )\n",
    "\n",
    "    def generate_llama2_prompt(self) -> PromptTemplate:\n",
    "        return PromptTemplate(\n",
    "            input_variables=self.input_variables, \n",
    "            template='''[INST]\n",
    "                <<SYS>>'''+self.system+'''<</SYS>>\n",
    "                '''+self.instruction+'''\n",
    "                [/INST]'''\n",
    "        )\n",
    "\n",
    "class TaskInstructionRegistry:\n",
    "    \"\"\"A class that stores all PromptTemplates available in the system.\"\"\"\n",
    "\n",
    "    # The name of this instruction template\n",
    "    registry: Dict[str, TaskInstruction] = {}\n",
    "\n",
    "    def register_new_instruction_template(self, dict:Dict[str, str], override: bool = True):\n",
    "        # check if all required fields are present\n",
    "        assert 'name' in dict, \"name is required\"\n",
    "        assert 'system' in dict, \"system is required\"\n",
    "        assert 'instruction' in dict, \"instruction is required\"\n",
    "        assert 'input_variables' in dict, \"input_variables is required\"\n",
    "\n",
    "        name = dict['name']\n",
    "        system = dict['system']\n",
    "        instruction = dict['instruction']\n",
    "        input_variables = dict['input_variables']\n",
    "\n",
    "        self.register_instruction_template( TaskInstruction(name, system, instruction, input_variables), override=override)\n",
    "\n",
    "    def deregister_instruction_template(self, name: str)->TaskInstruction:\n",
    "        instruction_template = self.registry.pop(name)\n",
    "        return instruction_template\n",
    "\n",
    "    def register_instruction_template(self, template: TaskInstruction, override: bool = False):\n",
    "        \"\"\"Register a new conversation template.\"\"\"\n",
    "        if not override:\n",
    "            assert template.name not in self.registry, f\"{template.name} has been registered.\"\n",
    "        self.registry[template.name] = template\n",
    "\n",
    "    def get_instruction_template(self, name: str) -> TaskInstruction:\n",
    "        \"\"\"Get a conversation template.\"\"\"\n",
    "        if name not in self.registry:\n",
    "            raise ValueError(f\"{name} has not been registered.\")\n",
    "        return self.registry[name].copy()\n",
    "\n",
    "    def load_prompts_from_yaml(self, file_name: str):\n",
    "        prompts_yaml = files(alhazen_resources).joinpath(file_name).read_text()\n",
    "        prompts_dict = yaml.safe_load(prompts_yaml)\n",
    "        for pname in prompts_dict:\n",
    "            dct = prompts_dict[pname]\n",
    "            dct['name'] = pname\n",
    "            self.register_new_instruction_template(dct)\n",
    "\n",
    "    def __str__(self) -> str:\n",
    "        out = \"Registered instruction templates:\\n\"\n",
    "        for name in self.registry:\n",
    "            out += '- %s'%(name) + '\\n'\n",
    "        return out\n",
    "\n",
    "# A global registry for all instruction templates\n",
    "global instructions\n",
    "instructions = TaskInstructionRegistry()\n",
    "instructions.load_prompts_from_yaml('tiab_prompts.yaml')"
   ]
  },
  {
   "cell_type": "code",
   "execution_count": null,
   "metadata": {},
   "outputs": [],
   "source": [
    "#| hide\n",
    "import nbdev; nbdev.nbdev_export()"
   ]
  }
 ],
 "metadata": {
  "kernelspec": {
   "display_name": "python3",
   "language": "python",
   "name": "python3"
  },
  "language_info": {
   "codemirror_mode": {
    "name": "ipython",
    "version": 3
   },
   "file_extension": ".py",
   "mimetype": "text/x-python",
   "name": "python",
   "nbconvert_exporter": "python",
   "pygments_lexer": "ipython3",
   "version": "3.11.4"
  }
 },
 "nbformat": 4,
 "nbformat_minor": 4
}
