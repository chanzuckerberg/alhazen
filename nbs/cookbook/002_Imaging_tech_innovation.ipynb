{
 "cells": [
  {
   "attachments": {},
   "cell_type": "markdown",
   "metadata": {},
   "source": [
    "# Imaging Technology Innovation Stages  \n",
    "\n",
    "> Methods to extract and model how imaging technology evolves."
   ]
  },
  {
   "cell_type": "markdown",
   "metadata": {},
   "source": [
    "## Modeling Technological Evolution and Innovation\n",
    "\n",
    "This notebook is concerned with building a digital library of publications derived from four subdisciplines of biomedical imaging:\n",
    "\n",
    "1. Cryo-Electron Tomography\n",
    "2. Volume Electron Microscopy\n",
    "3. Hiercharchy Phase Contrast Tomography\n",
    "4. Photoacoustic Imaging\n"
   ]
  },
  {
   "cell_type": "markdown",
   "metadata": {},
   "source": [
    "### Python Imports\n",
    "\n",
    "Setting python imports, environment variables, and other crucial set up parameters here.  "
   ]
  },
  {
   "cell_type": "code",
   "execution_count": 2,
   "metadata": {},
   "outputs": [],
   "source": [
    "from alhazen.apps.chat import  AlhazenAgentChatBot\n",
    "from alhazen.core import get_langchain_chatmodel, MODEL_TYPE\n",
    "from alhazen.schema_sqla import *\n",
    "from alhazen.tools.basic import AddCollectionFromEPMCTool, DeleteCollectionTool\n",
    "from alhazen.tools.paperqa_emulation_tool import PaperQAEmulationTool\n",
    "from alhazen.tools.metadata_extraction_tool import * \n",
    "from alhazen.tools.protocol_extraction_tool import *\n",
    "from alhazen.toolkit import *\n",
    "from alhazen.utils.jats_text_extractor import NxmlDoc\n",
    "from alhazen.utils.jats_text_extractor import NxmlDoc\n",
    "from alhazen.utils.ceifns_db import Ceifns_LiteratureDb, create_ceifns_database, drop_ceifns_database, restore_ceifns_database\n",
    "from alhazen.utils.searchEngineUtils import *\n",
    "\n",
    "from langchain.callbacks.tracers import ConsoleCallbackHandler\n",
    "from langchain.docstore.document import Document\n",
    "from langchain.text_splitter import CharacterTextSplitter\n",
    "from langchain.vectorstores.pgvector import PGVector\n",
    "from langchain_community.chat_models.ollama import ChatOllama\n",
    "from langchain_google_vertexai import ChatVertexAI\n",
    "from langchain_openai import ChatOpenAI\n",
    "\n",
    "from bs4 import BeautifulSoup,Tag,Comment,NavigableString\n",
    "from databricks import sql\n",
    "from datetime import datetime\n",
    "from importlib_resources import files\n",
    "import os\n",
    "import pandas as pd\n",
    "from pathlib import Path\n",
    "import re\n",
    "import requests\n",
    "\n",
    "from sqlalchemy import create_engine, exists, func, or_, and_, not_, desc, asc\n",
    "from sqlalchemy.orm import sessionmaker, aliased\n",
    "\n",
    "from time import time,sleep\n",
    "from tqdm import tqdm\n",
    "from urllib.request import urlopen\n",
    "from urllib.parse import quote_plus, quote, unquote\n",
    "from urllib.error import URLError, HTTPError\n",
    "import yaml"
   ]
  },
  {
   "cell_type": "code",
   "execution_count": 3,
   "metadata": {},
   "outputs": [],
   "source": [
    "# Using Aliases like this massively simplifies the use of SQLAlchemy\n",
    "IR = aliased(InformationResource)\n",
    "\n",
    "SKC = aliased(ScientificKnowledgeCollection)\n",
    "SKC_HM = aliased(ScientificKnowledgeCollectionHasMembers)\n",
    "SKE = aliased(ScientificKnowledgeExpression)\n",
    "SKE_XREF = aliased(ScientificKnowledgeExpressionXref)\n",
    "SKE_IRI = aliased(ScientificKnowledgeExpressionIri)\n",
    "SKE_HR = aliased(ScientificKnowledgeExpressionHasRepresentation)\n",
    "SKE_MO = aliased(ScientificKnowledgeExpressionMemberOf)\n",
    "SKI = aliased(ScientificKnowledgeItem)\n",
    "SKI_HP = aliased(ScientificKnowledgeItemHasPart)\n",
    "SKF = aliased(ScientificKnowledgeFragment)\n",
    "\n",
    "N = aliased(Note)\n",
    "NIA = aliased(NoteIsAbout)\n",
    "SKC_HN = aliased(ScientificKnowledgeCollectionHasNotes)\n",
    "SKE_HN = aliased(ScientificKnowledgeExpressionHasNotes)\n",
    "SKI_HN = aliased(ScientificKnowledgeItemHasNotes)\n",
    "SKF_HN = aliased(ScientificKnowledgeFragmentHasNotes)"
   ]
  },
  {
   "cell_type": "markdown",
   "metadata": {},
   "source": [
    "### Environment Variables\n",
    "\n",
    "Remember to set environmental variables for this code:\n",
    "\n",
    "* `ALHAZEN_DB_NAME` - the name of the PostGresQL database you are storing information into\n",
    "* `LOCAL_FILE_PATH` - the location on disk where you save temporary files, downloaded models or other data.   "
   ]
  },
  {
   "cell_type": "code",
   "execution_count": 4,
   "metadata": {},
   "outputs": [],
   "source": [
    "os.environ['ALHAZEN_DB_NAME'] = 'imaging_tech_innovation'\n",
    "os.environ['LOCAL_FILE_PATH'] = '/users/gully.burns/alhazen/'"
   ]
  },
  {
   "cell_type": "code",
   "execution_count": 5,
   "metadata": {},
   "outputs": [],
   "source": [
    "if os.path.exists(os.environ['LOCAL_FILE_PATH']) is False:\n",
    "    os.makedirs(os.environ['LOCAL_FILE_PATH'])\n",
    "    \n",
    "if os.environ.get('ALHAZEN_DB_NAME') is None: \n",
    "    raise Exception('Which database do you want to use for this application?')\n",
    "db_name = os.environ['ALHAZEN_DB_NAME']\n",
    "\n",
    "if os.environ.get('LOCAL_FILE_PATH') is None: \n",
    "    raise Exception('Where are you storing your local literature database?')\n",
    "loc = os.environ['LOCAL_FILE_PATH']"
   ]
  },
  {
   "cell_type": "markdown",
   "metadata": {},
   "source": [
    "### Setup utils, agents, and tools "
   ]
  },
  {
   "cell_type": "code",
   "execution_count": 6,
   "metadata": {},
   "outputs": [
    {
     "name": "stdout",
     "output_type": "stream",
     "text": [
      "AGENT TOOLS\n",
      "\tAddCollectionFromEPMCTool\n",
      "\tAddAuthorsToCollectionTool\n",
      "\tDescribeCollectionCompositionTool\n",
      "\tDeleteCollectionTool\n",
      "\tRetrieveFullTextTool\n",
      "\tRetrieveFullTextToolForACollection\n",
      "\tMetadataExtraction_EverythingEverywhere_Tool\n",
      "\tSimpleExtractionWithRAGTool\n",
      "\tPaperQAEmulationTool\n",
      "\tProcotolExtractionTool\n",
      "\tCheckExpressionTool\n",
      "\tIntrospectionTool\n"
     ]
    }
   ],
   "source": [
    "ldb = Ceifns_LiteratureDb(loc=loc, name=db_name)\n",
    "llm = ChatOllama(model='mixtral:instruct') \n",
    "llm2 = ChatOpenAI(model='gpt-4-1106-preview') \n",
    "\n",
    "cb = AlhazenAgentChatBot()\n",
    "print('AGENT TOOLS')\n",
    "for t in cb.tk.get_tools():\n",
    "    print('\\t'+type(t).__name__)"
   ]
  },
  {
   "cell_type": "markdown",
   "metadata": {},
   "source": [
    "## Building the database\n"
   ]
  },
  {
   "cell_type": "markdown",
   "metadata": {},
   "source": [
    "### Scripts to Build / Delete the database\n",
    "\n",
    "If you need to restore a deleted database from backup, use the following shell commands:\n",
    "\n",
    "```\n",
    "$ createdb em_tech\n",
    "$ psql -d em_tech -f /local/file/path/em_tech/backup<date_time>.sql\n",
    "```"
   ]
  },
  {
   "cell_type": "code",
   "execution_count": 59,
   "metadata": {},
   "outputs": [
    {
     "name": "stdout",
     "output_type": "stream",
     "text": [
      "huggingface/tokenizers: The current process just got forked, after parallelism has already been used. Disabling parallelism to avoid deadlocks...\n",
      "To disable this warning, you can either:\n",
      "\t- Avoid using `tokenizers` before the fork if possible\n",
      "\t- Explicitly set the environment variable TOKENIZERS_PARALLELISM=(true | false)\n",
      "Database has been backed up to /users/gully.burns/alhazen/imaging_tech_innovation/backup2024-03-04-23-34-21.sql\n",
      "Database has been dropped successfully !!\n"
     ]
    }
   ],
   "source": [
    "drop_ceifns_database(os.environ['ALHAZEN_DB_NAME'])"
   ]
  },
  {
   "cell_type": "code",
   "execution_count": 60,
   "metadata": {},
   "outputs": [
    {
     "name": "stderr",
     "output_type": "stream",
     "text": [
      "100%|██████████| 310/310 [00:00<00:00, 3467.45it/s]\n"
     ]
    }
   ],
   "source": [
    "create_ceifns_database(os.environ['ALHAZEN_DB_NAME'])"
   ]
  },
  {
   "cell_type": "markdown",
   "metadata": {},
   "source": [
    "### Build CEIFNS database from queries"
   ]
  },
  {
   "cell_type": "markdown",
   "metadata": {},
   "source": [
    "#### Run queries on European PMC based on innovation categories \n",
    "\n",
    "Here we build general corpora across the categories of interest. \n",
    "\n",
    "* Hierarchical phase-contrast tomography\n",
    "* Cryo-Electron Tomography\n",
    "* Volume Electron Microscopy\n",
    "* Photoacoustic imaging"
   ]
  },
  {
   "cell_type": "code",
   "execution_count": 7,
   "metadata": {},
   "outputs": [
    {
     "data": {
      "text/html": [
       "<div>\n",
       "<style scoped>\n",
       "    .dataframe tbody tr th:only-of-type {\n",
       "        vertical-align: middle;\n",
       "    }\n",
       "\n",
       "    .dataframe tbody tr th {\n",
       "        vertical-align: top;\n",
       "    }\n",
       "\n",
       "    .dataframe thead th {\n",
       "        text-align: right;\n",
       "    }\n",
       "</style>\n",
       "<table border=\"1\" class=\"dataframe\">\n",
       "  <thead>\n",
       "    <tr style=\"text-align: right;\">\n",
       "      <th></th>\n",
       "      <th>ID</th>\n",
       "      <th>CORPUS_NAME</th>\n",
       "      <th>QUERY</th>\n",
       "    </tr>\n",
       "  </thead>\n",
       "  <tbody>\n",
       "    <tr>\n",
       "      <th>0</th>\n",
       "      <td>1</td>\n",
       "      <td>Hierarchical phase-contrast tomography</td>\n",
       "      <td>Hierarchical phase-contrast tomography | HIP-C...</td>\n",
       "    </tr>\n",
       "    <tr>\n",
       "      <th>1</th>\n",
       "      <td>2</td>\n",
       "      <td>Cryo-Electron Tomography</td>\n",
       "      <td>Cryoelectron Tomography | Cryo Electron Tomogr...</td>\n",
       "    </tr>\n",
       "    <tr>\n",
       "      <th>2</th>\n",
       "      <td>3</td>\n",
       "      <td>Volume Electron Microscopy</td>\n",
       "      <td>Volume Electron Microscopy | Volume EM | (seri...</td>\n",
       "    </tr>\n",
       "    <tr>\n",
       "      <th>3</th>\n",
       "      <td>4</td>\n",
       "      <td>Photoacoustic imaging</td>\n",
       "      <td>Photoacoustic imaging | Photoacoustic microscopy</td>\n",
       "    </tr>\n",
       "  </tbody>\n",
       "</table>\n",
       "</div>"
      ],
      "text/plain": [
       "   ID                             CORPUS_NAME  \\\n",
       "0   1  Hierarchical phase-contrast tomography   \n",
       "1   2                Cryo-Electron Tomography   \n",
       "2   3              Volume Electron Microscopy   \n",
       "3   4                   Photoacoustic imaging   \n",
       "\n",
       "                                               QUERY  \n",
       "0  Hierarchical phase-contrast tomography | HIP-C...  \n",
       "1  Cryoelectron Tomography | Cryo Electron Tomogr...  \n",
       "2  Volume Electron Microscopy | Volume EM | (seri...  \n",
       "3   Photoacoustic imaging | Photoacoustic microscopy  "
      ]
     },
     "execution_count": 7,
     "metadata": {},
     "output_type": "execute_result"
    }
   ],
   "source": [
    "import local_resources.queries.imaging_tech as imaging_tech\n",
    "from alhazen.utils.queryTranslator import QueryTranslator, QueryType\n",
    "\n",
    "cols_to_include = ['ID', 'CORPUS_NAME', 'QUERY']\n",
    "df = pd.read_csv(files(imaging_tech).joinpath('imaging_tech.tsv'), sep='\\t', )\n",
    "df = df.drop(columns=[c for c in df.columns if c not in cols_to_include])\n",
    "df"
   ]
  },
  {
   "cell_type": "code",
   "execution_count": 62,
   "metadata": {},
   "outputs": [
    {
     "name": "stderr",
     "output_type": "stream",
     "text": [
      "100%|██████████| 4/4 [00:00<00:00, 7533.55it/s]\n",
      "100%|██████████| 4/4 [00:00<00:00, 3442.19it/s]\n"
     ]
    },
    {
     "name": "stdout",
     "output_type": "stream",
     "text": [
      "https://www.ebi.ac.uk/europepmc/webservices/rest/search?format=JSON&pageSize=1000&synonym=TRUE&resultType=core&query=((TITLE_ABS:\"Hierarchical phase-contrast tomography\" OR METHODS:\"Hierarchical phase-contrast tomography\") OR (TITLE_ABS:\"HIP-CT\" OR METHODS:\"HIP-CT\") OR (TITLE_ABS:\"Hierarchical phase contrast tomography\" OR METHODS:\"Hierarchical phase contrast tomography\")), 143 European PMC PAPERS FOUND\n"
     ]
    },
    {
     "name": "stderr",
     "output_type": "stream",
     "text": [
      "100%|██████████| 1/1 [00:03<00:00,  3.54s/it]\n"
     ]
    },
    {
     "name": "stdout",
     "output_type": "stream",
     "text": [
      " Returning 135\n"
     ]
    },
    {
     "name": "stderr",
     "output_type": "stream",
     "text": [
      "100%|██████████| 135/135 [00:00<00:00, 507.06it/s]\n"
     ]
    },
    {
     "name": "stdout",
     "output_type": "stream",
     "text": [
      "https://www.ebi.ac.uk/europepmc/webservices/rest/search?format=JSON&pageSize=1000&synonym=TRUE&resultType=core&query=((TITLE_ABS:\"Cryoelectron Tomography\" OR METHODS:\"Cryoelectron Tomography\") OR (TITLE_ABS:\"Cryo Electron Tomography\" OR METHODS:\"Cryo Electron Tomography\") OR (TITLE_ABS:\"Cryo-Electron Tomography\" OR METHODS:\"Cryo-Electron Tomography\") OR (TITLE_ABS:\"Cryo-ET\" OR METHODS:\"Cryo-ET\") OR (TITLE_ABS:\"CryoET\" OR METHODS:\"CryoET\")), 2581 European PMC PAPERS FOUND\n"
     ]
    },
    {
     "name": "stderr",
     "output_type": "stream",
     "text": [
      "100%|██████████| 3/3 [00:55<00:00, 18.45s/it]\n"
     ]
    },
    {
     "name": "stdout",
     "output_type": "stream",
     "text": [
      " Returning 2558\n"
     ]
    },
    {
     "name": "stderr",
     "output_type": "stream",
     "text": [
      "100%|██████████| 2558/2558 [00:06<00:00, 375.25it/s]\n"
     ]
    },
    {
     "name": "stdout",
     "output_type": "stream",
     "text": [
      "https://www.ebi.ac.uk/europepmc/webservices/rest/search?format=JSON&pageSize=1000&synonym=TRUE&resultType=core&query=((TITLE_ABS:\"Volume Electron Microscopy\" OR METHODS:\"Volume Electron Microscopy\") OR (TITLE_ABS:\"Volume EM\" OR METHODS:\"Volume EM\") OR (TITLE_ABS:\"multibeam SEM\" OR METHODS:\"multibeam SEM\") OR (TITLE_ABS:\"FAST-SEM\" OR METHODS:\"FAST-SEM\") OR ((TITLE_ABS:\"serial section\" OR METHODS:\"serial section\") AND ((TITLE_ABS:\"electron microscopy\" OR METHODS:\"electron microscopy\") OR (TITLE_ABS:\"EM\" OR METHODS:\"EM\") OR (TITLE_ABS:\"transmission electron microscopy\" OR METHODS:\"transmission electron microscopy\") OR (TITLE_ABS:\"TEM\" OR METHODS:\"TEM\") OR (TITLE_ABS:\"scanning electron microscopy\" OR METHODS:\"scanning electron microscopy\") OR (TITLE_ABS:\"SEM\" OR METHODS:\"SEM\") OR (TITLE_ABS:\"electron tomography\" OR METHODS:\"electron tomography\"))) OR ((TITLE_ABS:\"serial block-face\" OR METHODS:\"serial block-face\") AND ((TITLE_ABS:\"scanning electron microscopy\" OR METHODS:\"scanning electron microscopy\") OR (TITLE_ABS:\"SEM\" OR METHODS:\"SEM\"))) OR ((TITLE_ABS:\"focused ion beam\" OR METHODS:\"focused ion beam\") AND ((TITLE_ABS:\"scanning electron microscopy\" OR METHODS:\"scanning electron microscopy\") OR (TITLE_ABS:\"SEM\" OR METHODS:\"SEM\"))) OR ((TITLE_ABS:\"automated serial\" OR METHODS:\"automated serial\") AND ((TITLE_ABS:\"transmission electron microscopy\" OR METHODS:\"transmission electron microscopy\") OR (TITLE_ABS:\"TEM\" OR METHODS:\"TEM\"))) OR ((TITLE_ABS:\"massively parallel imaging\" OR METHODS:\"massively parallel imaging\") AND ((TITLE_ABS:\"scanning electron microscopy\" OR METHODS:\"scanning electron microscopy\") OR (TITLE_ABS:\"SEM\" OR METHODS:\"SEM\")))), 6891 European PMC PAPERS FOUND\n"
     ]
    },
    {
     "name": "stderr",
     "output_type": "stream",
     "text": [
      "100%|██████████| 7/7 [02:28<00:00, 21.18s/it]\n"
     ]
    },
    {
     "name": "stdout",
     "output_type": "stream",
     "text": [
      " Returning 6820\n"
     ]
    },
    {
     "name": "stderr",
     "output_type": "stream",
     "text": [
      "100%|██████████| 6820/6820 [00:41<00:00, 164.39it/s]\n"
     ]
    },
    {
     "name": "stdout",
     "output_type": "stream",
     "text": [
      "https://www.ebi.ac.uk/europepmc/webservices/rest/search?format=JSON&pageSize=1000&synonym=TRUE&resultType=core&query=((TITLE_ABS:\"Photoacoustic imaging\" OR METHODS:\"Photoacoustic imaging\") OR (TITLE_ABS:\"Photoacoustic microscopy\" OR METHODS:\"Photoacoustic microscopy\")), 4600 European PMC PAPERS FOUND\n"
     ]
    },
    {
     "name": "stderr",
     "output_type": "stream",
     "text": [
      "100%|██████████| 5/5 [00:59<00:00, 11.84s/it]\n"
     ]
    },
    {
     "name": "stdout",
     "output_type": "stream",
     "text": [
      " Returning 4478\n"
     ]
    },
    {
     "name": "stderr",
     "output_type": "stream",
     "text": [
      "100%|██████████| 4478/4478 [00:17<00:00, 257.83it/s]\n"
     ]
    }
   ],
   "source": [
    "qt = QueryTranslator(df.sort_values('ID'), 'ID', 'QUERY', 'CORPUS_NAME')\n",
    "(corpus_ids, epmc_queries) = qt.generate_queries(QueryType.epmc, sections=['TITLE_ABS', 'METHODS'])\n",
    "corpus_names = df['CORPUS_NAME']\n",
    "\n",
    "addEMPCCollection_tool = [t for t in cb.tk.get_tools() if isinstance(t, AddCollectionFromEPMCTool)][0]\n",
    "for (id, name, query) in zip(corpus_ids, corpus_names, epmc_queries):\n",
    "    addEMPCCollection_tool.run(tool_input={'id': id, 'name':name, 'query':query, 'full_text':False})"
   ]
  },
  {
   "cell_type": "markdown",
   "metadata": {},
   "source": [
    "#### Run queries on known lists of papers from CZI grantees on the four imaging innovation categories \n",
    "\n",
    "Here we seach pre-developed lists of papers from CZI grantee's work, indexed in a local file: `./local_resources/queries/imaging_tech/grantee_dois.json`"
   ]
  },
  {
   "cell_type": "code",
   "execution_count": 15,
   "metadata": {},
   "outputs": [
    {
     "name": "stdout",
     "output_type": "stream",
     "text": [
      "Cryo-Electron Tomography: Searching for 23\n",
      "Volume Electron Microscopy: Searching for 12\n",
      "Hierarchical phase-contrast tomography: Searching for 14\n",
      "Photoacoustic imaging: Searching for 26\n"
     ]
    }
   ],
   "source": [
    "with open(files(imaging_tech).joinpath('grantee_dois.json'), 'r') as f:\n",
    "    dict_lists = json.load(f)\n",
    "\n",
    "addEMPCCollection_tool = [t for t in cb.tk.get_tools() if isinstance(t, AddCollectionFromEPMCTool)][0]\n",
    "for i, k in enumerate(dict_lists.keys()):\n",
    "    query = ' OR '.join(['doi:\"'+d_id+'\"' for d_id in dict_lists[k] ])\n",
    "    print('%s: Searching for %d'%(k, len(dict_lists[k])))\n",
    "    addEMPCCollection_tool.run(tool_input={'id': str(5+i), 'name': k + ' (grantees)', 'query':query})\n"
   ]
  },
  {
   "cell_type": "markdown",
   "metadata": {},
   "source": [
    "## Analyze Collections"
   ]
  },
  {
   "cell_type": "code",
   "execution_count": 13,
   "metadata": {},
   "outputs": [
    {
     "data": {
      "text/html": [
       "<div>\n",
       "<style scoped>\n",
       "    .dataframe tbody tr th:only-of-type {\n",
       "        vertical-align: middle;\n",
       "    }\n",
       "\n",
       "    .dataframe tbody tr th {\n",
       "        vertical-align: top;\n",
       "    }\n",
       "\n",
       "    .dataframe thead th {\n",
       "        text-align: right;\n",
       "    }\n",
       "</style>\n",
       "<table border=\"1\" class=\"dataframe\">\n",
       "  <thead>\n",
       "    <tr style=\"text-align: right;\">\n",
       "      <th></th>\n",
       "      <th>item type</th>\n",
       "      <th>CitationRecord</th>\n",
       "    </tr>\n",
       "    <tr>\n",
       "      <th>id</th>\n",
       "      <th>collection name</th>\n",
       "      <th></th>\n",
       "    </tr>\n",
       "  </thead>\n",
       "  <tbody>\n",
       "    <tr>\n",
       "      <th>1</th>\n",
       "      <th>Hierarchical phase-contrast tomography</th>\n",
       "      <td>135</td>\n",
       "    </tr>\n",
       "    <tr>\n",
       "      <th>2</th>\n",
       "      <th>Cryo-Electron Tomography</th>\n",
       "      <td>2556</td>\n",
       "    </tr>\n",
       "    <tr>\n",
       "      <th>3</th>\n",
       "      <th>Volume Electron Microscopy</th>\n",
       "      <td>6817</td>\n",
       "    </tr>\n",
       "    <tr>\n",
       "      <th>4</th>\n",
       "      <th>Photoacoustic imaging</th>\n",
       "      <td>4477</td>\n",
       "    </tr>\n",
       "    <tr>\n",
       "      <th>5</th>\n",
       "      <th>Cryo-Electron Tomography (grantees)</th>\n",
       "      <td>20</td>\n",
       "    </tr>\n",
       "    <tr>\n",
       "      <th>6</th>\n",
       "      <th>Volume Electron Microscopy (grantees)</th>\n",
       "      <td>11</td>\n",
       "    </tr>\n",
       "    <tr>\n",
       "      <th>7</th>\n",
       "      <th>Hierarchical phase-contrast tomography (grantees)</th>\n",
       "      <td>12</td>\n",
       "    </tr>\n",
       "    <tr>\n",
       "      <th>8</th>\n",
       "      <th>Photoacoustic imaging (grantees)</th>\n",
       "      <td>23</td>\n",
       "    </tr>\n",
       "  </tbody>\n",
       "</table>\n",
       "</div>"
      ],
      "text/plain": [
       "item type                                             CitationRecord\n",
       "id collection name                                                  \n",
       "1  Hierarchical phase-contrast tomography                        135\n",
       "2  Cryo-Electron Tomography                                     2556\n",
       "3  Volume Electron Microscopy                                   6817\n",
       "4  Photoacoustic imaging                                        4477\n",
       "5  Cryo-Electron Tomography (grantees)                            20\n",
       "6  Volume Electron Microscopy (grantees)                          11\n",
       "7  Hierarchical phase-contrast tomography (grantees)              12\n",
       "8  Photoacoustic imaging (grantees)                               23"
      ]
     },
     "execution_count": 13,
     "metadata": {},
     "output_type": "execute_result"
    }
   ],
   "source": [
    "q = ldb.session.query(SKC.id, SKC.name, SKE.id, SKI.type) \\\n",
    "        .filter(SKC.id==SKC_HM.ScientificKnowledgeCollection_id) \\\n",
    "        .filter(SKC_HM.has_members_id==SKE.id) \\\n",
    "        .filter(SKE.id==SKE_HR.ScientificKnowledgeExpression_id) \\\n",
    "        .filter(SKE_HR.has_representation_id==SKI.id) \n",
    "df = pd.DataFrame(q.all(), columns=['id', 'collection name', 'doi', 'item type'])    \n",
    "df.pivot_table(index=['id', 'collection name'], columns='item type', values='doi', aggfunc=lambda x: len(x.unique()))"
   ]
  }
 ],
 "metadata": {
  "kernelspec": {
   "display_name": "python3",
   "language": "python",
   "name": "python3"
  },
  "language_info": {
   "codemirror_mode": {
    "name": "ipython",
    "version": 3
   },
   "file_extension": ".py",
   "mimetype": "text/x-python",
   "name": "python",
   "nbconvert_exporter": "python",
   "pygments_lexer": "ipython3",
   "version": "3.11.5"
  }
 },
 "nbformat": 4,
 "nbformat_minor": 1
}
