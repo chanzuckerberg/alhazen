{
 "cells": [
  {
   "attachments": {},
   "cell_type": "markdown",
   "metadata": {},
   "source": [
    "# Virtual Cell Landscaping Analysis  \n",
    "\n",
    "> Using Alhazen to study and interrogate papers concerning the Virtual Cell data modeling work."
   ]
  },
  {
   "cell_type": "markdown",
   "metadata": {},
   "source": [
    "Note - this question is inherently driven by discussion and informal experience (as opposed to formal experimentation). So we would expect to "
   ]
  },
  {
   "cell_type": "markdown",
   "metadata": {},
   "source": [
    "## Preliminaries"
   ]
  },
  {
   "cell_type": "code",
   "execution_count": null,
   "metadata": {},
   "outputs": [],
   "source": [
    "from alhazen.core import get_langchain_chatmodel, MODEL_TYPE\n",
    "from alhazen.agent import AlhazenAgent\n",
    "from alhazen.schema_sqla import *\n",
    "from alhazen.core import get_langchain_chatmodel, MODEL_TYPE\n",
    "from alhazen.tools.basic import AddCollectionFromEPMCTool, DeleteCollectionTool\n",
    "from alhazen.tools.paperqa_emulation_tool import PaperQAEmulationTool\n",
    "from alhazen.tools.metadata_extraction_tool import * \n",
    "from alhazen.tools.protocol_extraction_tool import *\n",
    "from alhazen.toolkit import *\n",
    "from alhazen.utils.jats_text_extractor import NxmlDoc\n",
    "\n",
    "from alhazen.utils.jats_text_extractor import NxmlDoc\n",
    "from alhazen.utils.ceifns_db import Ceifns_LiteratureDb, create_ceifns_database, drop_ceifns_database, backup_ceifns_database\n",
    "from alhazen.utils.searchEngineUtils import *\n",
    "\n",
    "\n",
    "from langchain.callbacks.tracers import ConsoleCallbackHandler\n",
    "from langchain.docstore.document import Document\n",
    "from langchain.text_splitter import CharacterTextSplitter\n",
    "from langchain.vectorstores.pgvector import PGVector\n",
    "from langchain_community.chat_models.ollama import ChatOllama\n",
    "from langchain_google_vertexai import ChatVertexAI\n",
    "from langchain_openai import ChatOpenAI\n",
    "\n",
    "from bs4 import BeautifulSoup,Tag,Comment,NavigableString\n",
    "from databricks import sql\n",
    "from datetime import datetime\n",
    "from importlib_resources import files\n",
    "import os\n",
    "import pandas as pd\n",
    "from pathlib import Path\n",
    "import re\n",
    "import requests\n",
    "\n",
    "from sqlalchemy import create_engine, exists, func, or_, and_, not_, desc, asc\n",
    "from sqlalchemy.orm import sessionmaker, aliased\n",
    "\n",
    "from time import time,sleep\n",
    "from tqdm import tqdm\n",
    "from urllib.request import urlopen\n",
    "from urllib.parse import quote_plus, quote, unquote\n",
    "from urllib.error import URLError, HTTPError\n",
    "import yaml"
   ]
  },
  {
   "cell_type": "code",
   "execution_count": null,
   "metadata": {},
   "outputs": [],
   "source": [
    "# Using Aliases like this massively simplifies the use of SQLAlchemy\n",
    "IR = aliased(InformationResource)\n",
    "\n",
    "SKC = aliased(ScientificKnowledgeCollection)\n",
    "SKC_HM = aliased(ScientificKnowledgeCollectionHasMembers)\n",
    "SKE = aliased(ScientificKnowledgeExpression)\n",
    "SKE_XREF = aliased(ScientificKnowledgeExpressionXref)\n",
    "SKE_IRI = aliased(ScientificKnowledgeExpressionIri)\n",
    "SKE_HR = aliased(ScientificKnowledgeExpressionHasRepresentation)\n",
    "SKE_MO = aliased(ScientificKnowledgeExpressionMemberOf)\n",
    "SKI = aliased(ScientificKnowledgeItem)\n",
    "SKI_HP = aliased(ScientificKnowledgeItemHasPart)\n",
    "SKF = aliased(ScientificKnowledgeFragment)\n",
    "\n",
    "N = aliased(Note)\n",
    "NIA = aliased(NoteIsAbout)\n",
    "SKC_HN = aliased(ScientificKnowledgeCollectionHasNotes)\n",
    "SKE_HN = aliased(ScientificKnowledgeExpressionHasNotes)\n",
    "SKI_HN = aliased(ScientificKnowledgeItemHasNotes)\n",
    "SKF_HN = aliased(ScientificKnowledgeFragmentHasNotes)"
   ]
  },
  {
   "cell_type": "markdown",
   "metadata": {},
   "source": [
    "Remember to set environmental variables for this code:\n",
    "\n",
    "* `ALHAZEN_DB_NAME` - the name of the PostGresQL database you are storing information into\n",
    "* `LOCAL_FILE_PATH` - the location on disk where you save temporary files, downloaded models or other data.   "
   ]
  },
  {
   "cell_type": "code",
   "execution_count": null,
   "metadata": {},
   "outputs": [],
   "source": [
    "os.environ['ALHAZEN_DB_NAME'] = 'virtual_cell'\n",
    "os.environ['LOCAL_FILE_PATH'] = '/users/gully.burns/alhazen/'\n",
    "\n",
    "if os.path.exists(os.environ['LOCAL_FILE_PATH']) is False:\n",
    "    os.makedirs(os.environ['LOCAL_FILE_PATH'])\n",
    "\n",
    "if os.environ.get('ALHAZEN_DB_NAME') is None: \n",
    "    raise Exception('Which database do you want to use for this application?')\n",
    "db_name = os.environ['ALHAZEN_DB_NAME']\n",
    "\n",
    "if os.environ.get('LOCAL_FILE_PATH') is None: \n",
    "    raise Exception('Where are you storing your local literature database?')\n",
    "loc = os.environ['LOCAL_FILE_PATH']"
   ]
  },
  {
   "cell_type": "code",
   "execution_count": null,
   "metadata": {},
   "outputs": [
    {
     "name": "stdout",
     "output_type": "stream",
     "text": [
      "huggingface/tokenizers: The current process just got forked, after parallelism has already been used. Disabling parallelism to avoid deadlocks...\n",
      "To disable this warning, you can either:\n",
      "\t- Avoid using `tokenizers` before the fork if possible\n",
      "\t- Explicitly set the environment variable TOKENIZERS_PARALLELISM=(true | false)\n",
      "Database has been backed up to /users/gully.burns/alhazen/alhazen_workbooks/backup2024-02-14-09-25-50.sql\n",
      "Database has been dropped successfully !!\n"
     ]
    }
   ],
   "source": [
    "drop_ceifns_database(os.environ['ALHAZEN_DB_NAME'])"
   ]
  },
  {
   "cell_type": "code",
   "execution_count": null,
   "metadata": {},
   "outputs": [
    {
     "name": "stderr",
     "output_type": "stream",
     "text": [
      "100%|██████████| 310/310 [00:00<00:00, 2540.15it/s]\n"
     ]
    }
   ],
   "source": [
    "create_ceifns_database(os.environ['ALHAZEN_DB_NAME'])"
   ]
  },
  {
   "cell_type": "code",
   "execution_count": null,
   "metadata": {},
   "outputs": [
    {
     "name": "stdout",
     "output_type": "stream",
     "text": [
      "AGENT TOOLS\n",
      "\tAddCollectionFromEPMCTool\n",
      "\tAddAuthorsToCollectionTool\n",
      "\tDescribeCollectionCompositionTool\n",
      "\tDeleteCollectionTool\n",
      "\tRetrieveFullTextTool\n",
      "\tRetrieveFullTextToolForACollection\n",
      "\tMetadataExtraction_EverythingEverywhere_Tool\n",
      "\tSimpleExtractionWithRAGTool\n",
      "\tPaperQAEmulationTool\n",
      "\tProcotolExtractionTool\n",
      "\tCheckExpressionTool\n",
      "\tTitleAbstractClassifier_OneDocAtATime_Tool\n"
     ]
    }
   ],
   "source": [
    "ldb = Ceifns_LiteratureDb(loc=loc, name=db_name)\n",
    "llm = ChatOllama(model='mixtral:instruct') \n",
    "llm2 = ChatOpenAI(model='gpt-4-1106-preview') \n",
    "llm2 = ChatOpenAI(model='gpt-4-1106-preview') \n",
    "#llm3 = ChatVertexAI(model_name=\"gemini-pro\", convert_system_message_to_human=True)\n",
    "\n",
    "cb = AlhazenAgent(llm, llm)\n",
    "print('AGENT TOOLS')\n",
    "for t in cb.tk.get_tools():\n",
    "    print('\\t'+type(t).__name__)"
   ]
  },
  {
   "cell_type": "code",
   "execution_count": null,
   "metadata": {},
   "outputs": [
    {
     "name": "stdout",
     "output_type": "stream",
     "text": [
      "10.1101/2024.01.25.577152\n",
      "10.1101/2023.11.29.569320\n",
      "10.1038/s41586-023-06139-9\n",
      "10.1101/2023.11.28.568918\n",
      "10.1038/s41592-024-02201-0\n",
      "10.1038/s41467-023-35923-4\n",
      "10.1145/3583780.3615061\n",
      "10.1016/j.isci.2023.106536\n",
      "10.48550/arXiv.2302.03038\n",
      "10.1101/2023.05.29.542705\n",
      "10.1101/2023.03.24.534055\n",
      "10.48550/arXiv.2306.04371\n",
      "https://openreview.net/forum?id=KMtM5ZHxct\n",
      "10.1101/2023.09.26.559542\n",
      "10.1101/2023.10.03.560734\n",
      "10.1101/2024.02.13.580114\n",
      "https://openreview.net/forum?id=QFm186CbBp\n",
      "10.1101/2023.07.04.547619\n",
      "10.3390/biom13040611\n",
      "10.1093/bioinformatics/btad165\n",
      "10.1093/bib/bbad195\n",
      "10.1101/2022.11.20.517285\n",
      "10.48550/arXiv.2210.14330\n",
      "10.3389/fgene.2022.1038919\n",
      "10.1038/s42256-022-00534-z\n",
      "10.1093/bib/bbab573\n",
      "10.1101/2020.02.05.935239\n"
     ]
    }
   ],
   "source": [
    "import local_resources.queries.vcm_key_papers as vcm_key_papers\n",
    "import json\n",
    "\n",
    "with open(files(vcm_key_papers).joinpath('kp.json')) as f:\n",
    "    kp = json.load(f)\n",
    "\n",
    "for c  in kp['Single-cell transformers']:\n",
    "    print(c.split('\\t')[-1].strip())"
   ]
  },
  {
   "cell_type": "code",
   "execution_count": null,
   "metadata": {},
   "outputs": [],
   "source": []
  }
 ],
 "metadata": {
  "kernelspec": {
   "display_name": "python3",
   "language": "python",
   "name": "python3"
  }
 },
 "nbformat": 4,
 "nbformat_minor": 1
}
