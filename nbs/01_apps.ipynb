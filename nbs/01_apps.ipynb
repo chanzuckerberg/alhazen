{
 "cells": [
  {
   "cell_type": "markdown",
   "metadata": {},
   "source": [
    "# Apps\n",
    "\n",
    "> Command line applications that can be called with `python -m fire alhazen.apps <app>`.  "
   ]
  },
  {
   "cell_type": "code",
   "execution_count": 2,
   "metadata": {},
   "outputs": [],
   "source": [
    "#| default_exp apps"
   ]
  },
  {
   "cell_type": "code",
   "execution_count": 2,
   "metadata": {},
   "outputs": [
    {
     "name": "stderr",
     "output_type": "stream",
     "text": [
      "[nltk_data] Downloading package punkt to /Users/gburns/nltk_data...\n",
      "[nltk_data]   Package punkt is already up-to-date!\n",
      "/Users/gburns/miniconda3/envs/alhazen/lib/python3.11/site-packages/InstructorEmbedding/instructor.py:7: TqdmExperimentalWarning: Using `tqdm.autonotebook.tqdm` in notebook mode. Use `tqdm.tqdm` instead to force console mode (e.g. in jupyter console)\n",
      "  from tqdm.autonotebook import trange\n"
     ]
    }
   ],
   "source": [
    "#| export\n",
    "\n",
    "import os\n",
    "from alhazen.tools.single_document_qa import LocalFileLangChainChatBot"
   ]
  },
  {
   "cell_type": "code",
   "execution_count": 1,
   "metadata": {},
   "outputs": [],
   "source": [
    "#| export\n",
    "\n",
    "def single_paper_chatbot(doc_dir, \n",
    "        llm_name, \n",
    "        embed_model_name='hkunlp/instructor-large',\n",
    "        chunk_size=1000,\n",
    "        chunk_overlap=100,\n",
    "        section_regex=None):\n",
    "    \n",
    "    \"\"\"Run a chatbot on a single paper - useful for testing. Execute this as follows:\n",
    "\n",
    "    Set environment variable LLMS_TEMP_DIR to a directory where you want to store the temporary files\n",
    "\n",
    "    `os.environ['LLMS_TEMP_DIR'] = '/tmp/alhazen'`\n",
    "    \n",
    "    Run the chatbot \n",
    "    \n",
    "    `python -m fire alhazen.apps single_paper_chatbot '/path/to/pdf/or/nxml/files/' 'mistral-7b-instruct'`\n",
    "    \"\"\"\n",
    "    \n",
    "    chatbot = LocalFileLangChainChatBot(\n",
    "                doc_dir, \n",
    "                llm_name,\n",
    "                embed_model_name=embed_model_name,\n",
    "                chunk_size=chunk_size,\n",
    "                chunk_overlap=chunk_overlap,\n",
    "                section_regex=section_regex)\n",
    "    chatbot.run_gradio()\n",
    "\n",
    "#os.environ['LLMS_TEMP_DIR'] = '/tmp/alhazen'\n",
    "#single_paper_chatbot('/Users/gburns/Documents/2023H2/cryoet_portal_rocrates/reading/cryoet_papers/', 'mistral-7b-instruct', section_regex='[Mm]ethods')"
   ]
  }
 ],
 "metadata": {
  "kernelspec": {
   "display_name": "python3",
   "language": "python",
   "name": "python3"
  },
  "language_info": {
   "codemirror_mode": {
    "name": "ipython",
    "version": 3
   },
   "file_extension": ".py",
   "mimetype": "text/x-python",
   "name": "python",
   "nbconvert_exporter": "python",
   "pygments_lexer": "ipython3",
   "version": "3.11.4"
  }
 },
 "nbformat": 4,
 "nbformat_minor": 4
}
