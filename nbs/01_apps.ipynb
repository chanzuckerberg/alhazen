{
 "cells": [
  {
   "cell_type": "markdown",
   "metadata": {},
   "source": [
    "# Apps\n",
    "\n",
    "> Command line applications that can be called.  "
   ]
  },
  {
   "cell_type": "code",
   "execution_count": 2,
   "metadata": {},
   "outputs": [],
   "source": [
    "#| default_exp apps"
   ]
  },
  {
   "cell_type": "code",
   "execution_count": 1,
   "metadata": {},
   "outputs": [],
   "source": [
    "#| export\n",
    "\n",
    "import os\n",
    "from alhazen.tools.single_document_qa import FileCollectionLangChainChatBot"
   ]
  },
  {
   "cell_type": "code",
   "execution_count": null,
   "metadata": {},
   "outputs": [],
   "source": [
    "#| export\n",
    "\n",
    "def pdf_corpus_chatbot_langchain(doc_dir, \n",
    "        llm_name, \n",
    "        embed_model_name='hkunlp/instructor-large',\n",
    "        chunk_size=1000,\n",
    "        chunk_overlap=100):\n",
    "    \n",
    "    if os.environ.get('LLMS_TEMP_DIR') is None:\n",
    "        raise RuntimeError(f\"LLMA_TEMP_DIR environment variable not set. Please set it to a directory where you have write access to.\")\n",
    "    chatbot = FileCollectionLangChainChatBot(\n",
    "                doc_dir, \n",
    "                llm_name,\n",
    "                embed_model_name=embed_model_name,\n",
    "                chunk_size=chunk_size,\n",
    "                chunk_overlap=chunk_overlap)\n",
    "    chatbot.run_gradio()"
   ]
  }
 ],
 "metadata": {
  "kernelspec": {
   "display_name": "python3",
   "language": "python",
   "name": "python3"
  },
  "language_info": {
   "codemirror_mode": {
    "name": "ipython",
    "version": 3
   },
   "file_extension": ".py",
   "mimetype": "text/x-python",
   "name": "python",
   "nbconvert_exporter": "python",
   "pygments_lexer": "ipython3",
   "version": "3.11.4"
  }
 },
 "nbformat": 4,
 "nbformat_minor": 4
}
