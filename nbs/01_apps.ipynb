{
 "cells": [
  {
   "cell_type": "markdown",
   "metadata": {},
   "source": [
    "# Apps\n",
    "\n",
    "> Command line applications that can be called with `python -m fire alhazen.apps <app>`.  "
   ]
  },
  {
   "cell_type": "code",
   "execution_count": 2,
   "metadata": {},
   "outputs": [],
   "source": [
    "#| default_exp fire"
   ]
  },
  {
   "cell_type": "code",
   "execution_count": 1,
   "metadata": {},
   "outputs": [
    {
     "name": "stderr",
     "output_type": "stream",
     "text": [
      "[nltk_data] Downloading package punkt to /Users/gburns/nltk_data...\n",
      "[nltk_data]   Package punkt is already up-to-date!\n"
     ]
    }
   ],
   "source": [
    "#| export\n",
    "\n",
    "import os\n",
    "from alhazen.apps.chat import AlhazenAgentChatBot"
   ]
  },
  {
   "cell_type": "code",
   "execution_count": 3,
   "metadata": {},
   "outputs": [],
   "source": [
    "#| export\n",
    "def paperqa_chatbot(loc, db_name):\n",
    "    \n",
    "    os.environ['LOCAL_FILE_PATH'] = loc\n",
    "\n",
    "    os.environ['ALHAZEN_DB_NAME'] = db_name\n",
    "\n",
    "    \"\"\"Run a chatbot based on the paperqa methodology:\n",
    "    \n",
    "    `python -m fire alhazen.apps paperqa_chatbot '/path/to/local/files/' 'ALHAZEN_DB_NAME'\n",
    "    \"\"\"\n",
    "    \n",
    "    chatbot = AlhazenAgentChatBot()\n",
    "    chatbot.run_gradio()"
   ]
  }
 ],
 "metadata": {
  "kernelspec": {
   "display_name": "python3",
   "language": "python",
   "name": "python3"
  },
  "language_info": {
   "codemirror_mode": {
    "name": "ipython",
    "version": 3
   },
   "file_extension": ".py",
   "mimetype": "text/x-python",
   "name": "python",
   "nbconvert_exporter": "python",
   "pygments_lexer": "ipython3",
   "version": "3.11.4"
  }
 },
 "nbformat": 4,
 "nbformat_minor": 4
}
