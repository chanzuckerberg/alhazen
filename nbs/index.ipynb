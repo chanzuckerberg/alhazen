{
 "cells": [
  {
   "cell_type": "code",
   "execution_count": null,
   "metadata": {},
   "outputs": [],
   "source": [
    "#| hide\n",
    "#from .core import *"
   ]
  },
  {
   "cell_type": "markdown",
   "metadata": {},
   "source": [
    "## Background\n",
    "\n",
    "One thousand years ago, Ḥasan Ibn al-Haytham (965-1039 AD) studied optics through experimentation and observation. He advocated that a hypothesis must be supported by experiments based on confirmable procedures or mathematical reasoning—an early pioneer in the scientific method _five centuries_ before Renaissance scientists ([Wikipedia](https://en.wikipedia.org/wiki/Ibn_al-Haytham)). \n",
    "\n",
    "We use the latinized form of his name ('Alhazen') as the name of this project to honor his contribution (which goes largely unrecognized from within non-Islamic communities). \n",
    "\n",
    "Here, we seek to develop an AI capable of applying scientific knowledge engineering to support CZI's mission. \n"
   ]
  },
  {
   "cell_type": "markdown",
   "metadata": {},
   "source": [
    "## Install"
   ]
  },
  {
   "cell_type": "markdown",
   "metadata": {},
   "source": [
    "This tool depends on tools developed by MLC (<https://mlc.ai/>) to execute a local LLM on the user's machine - and then call that system via a REST API.\n",
    "\n",
    "Follow the instructions at <https://mlc.ai/mlc-llm/docs/deploy/rest.html> to install the MLC system.\n",
    "\n",
    "At this stage, development and use of Alhazen will be performed via local Jupyter notebooks."
   ]
  },
  {
   "cell_type": "markdown",
   "metadata": {},
   "source": [
    "## How to use"
   ]
  },
  {
   "cell_type": "markdown",
   "metadata": {},
   "source": [
    "Fill me in please! Don't forget code examples:"
   ]
  },
  {
   "cell_type": "code",
   "execution_count": null,
   "metadata": {},
   "outputs": [
    {
     "data": {
      "text/plain": [
       "2"
      ]
     },
     "execution_count": null,
     "metadata": {},
     "output_type": "execute_result"
    }
   ],
   "source": [
    "1+1"
   ]
  },
  {
   "cell_type": "code",
   "execution_count": null,
   "metadata": {},
   "outputs": [],
   "source": []
  }
 ],
 "metadata": {
  "kernelspec": {
   "display_name": "python3",
   "language": "python",
   "name": "python3"
  }
 },
 "nbformat": 4,
 "nbformat_minor": 4
}
