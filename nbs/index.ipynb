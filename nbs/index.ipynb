{
 "cells": [
  {
   "cell_type": "code",
   "execution_count": null,
   "metadata": {},
   "outputs": [],
   "source": [
    "#| hide\n",
    "#from .core import *"
   ]
  },
  {
   "cell_type": "markdown",
   "metadata": {},
   "source": [
    "# Alhazen\n",
    "\n",
    "> An intelligent agent to help read and understand scientific research based on extant knowledge (i.e., what is already known and reported in the scientific literuature, online databases, wikipedia, or any other sources that we can find)."
   ]
  },
  {
   "cell_type": "markdown",
   "metadata": {},
   "source": [
    "This is an early proof-of-concept prototype developed within CZI's Research Science Team (RST). It is intended to be used as a downloadable library that can be run on a high-end local machine (M2 Apple Macbook with 32+GB of memory - no support for Windows or Linux yet). "
   ]
  },
  {
   "cell_type": "markdown",
   "metadata": {},
   "source": [
    "## Installation\n",
    "\n",
    "### Install from source\n",
    "\n",
    "```bash\n",
    "git clone https://github.com/chanzuckerberg/alzhazen\n",
    "conda create -n alhazen python=3.8\n",
    "conda activate alhazen\n",
    "cd alhazen\n",
    "pip install -e .\n",
    "```\n",
    "\n",
    "## How to use\n",
    "\n",
    "We use the fire library to create a modular command line interface (CLI) for Alhazen.\n",
    "\n",
    "For example to run the chatbot for the single paper QA task, execute the following command:\n",
    "\n",
    "```bash\n",
    "python -m fire alhazen/tools/<tool_name>.py chatbot\n",
    "```\n",
    "\n",
    "for example, run the following command to chat with the single paper QA chatbot:\n",
    "\n",
    "```bash\n",
    "python -m fire alhazen/tools/single_paper_qa.py chatbot\n",
    "```"
   ]
  },
  {
   "cell_type": "markdown",
   "metadata": {},
   "source": [
    "## Code Status and Capabilities\n",
    "\n",
    "This project is still very early, but we are attempting to provide access to \n",
    "the full range of capabilities of the project as we develop them. We will provide some access to each capability \n",
    "through [Gradio](https://gradio.app/) as we develop them, and will eventually synthesise them into a single\n",
    "agent-driven interface.  \n",
    "\n",
    "* **Single Paper QA (SPQA)** - retrieval augmented generation (RAG) question answering about a single paper (implemented through [llama-index](https://www.llamaindex.ai/))\n",
    "* ... more to come"
   ]
  },
  {
   "cell_type": "markdown",
   "metadata": {},
   "source": [
    "## Where does the Name 'Alhazen' come from?\n",
    "\n",
    "One thousand years ago, Ḥasan Ibn al-Haytham (965-1039 AD) studied optics through experimentation and observation. He advocated that a hypothesis must be supported by experiments based on confirmable procedures or mathematical reasoning — an early pioneer in the scientific method _five centuries_ before Renaissance scientists started following the same paradigm ([Website](https://www.ibnalhaytham.com/), [Wikipedia](https://en.wikipedia.org/wiki/Ibn_al-Haytham), [Tbakhi & Amir 2007](https://www.ncbi.nlm.nih.gov/pmc/articles/PMC6074172/)). \n",
    "\n",
    "We use the latinized form of his name ('Alhazen') as the name of this project to honor his contribution (which goes largely unrecognized from within non-Islamic communities). \n",
    "\n",
    "Famously, he was quoted as saying:\n",
    "\n",
    ">The duty of the man who investigates the writings of scientists, if learning the truth is his goal, is to make himself an enemy of all that he reads, and, applying his mind to the core and margins of its content, attack it from every side. He should also suspect himself as he performs his critical examination of it, so that he may avoid falling into either prejudice or leniency.\n",
    "\n",
    "Here, we seek to develop an AI capable of applying scientific knowledge engineering to support CZI's mission. We seek to honor Ibn al-Haytham's critical view of published knowledge by creating a AI-powered system for scientific discovery."
   ]
  }
 ],
 "metadata": {
  "kernelspec": {
   "display_name": "python3",
   "language": "python",
   "name": "python3"
  }
 },
 "nbformat": 4,
 "nbformat_minor": 4
}
