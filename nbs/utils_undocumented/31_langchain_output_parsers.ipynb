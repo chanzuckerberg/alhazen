{
 "cells": [
  {
   "attachments": {},
   "cell_type": "markdown",
   "metadata": {},
   "source": [
    "# Llama2 LangChain Output Parsers  \n",
    "\n",
    " > Fixing common errors from Llama2 outputs that do not conform to standards set by OpenAI. "
   ]
  },
  {
   "cell_type": "code",
   "execution_count": null,
   "metadata": {},
   "outputs": [],
   "source": [
    "#| default_exp utils.output_parsers\n",
    "from nbdev import *"
   ]
  },
  {
   "cell_type": "code",
   "execution_count": null,
   "metadata": {},
   "outputs": [],
   "source": [
    "#| export\n",
    "import asyncio\n",
    "\n",
    "import json\n",
    "\n",
    "from langchain.callbacks.base import BaseCallbackHandler\n",
    "from langchain.callbacks.manager import CallbackManager\n",
    "from langchain.callbacks.streaming_stdout import StreamingStdOutCallbackHandler\n",
    "from langchain.prompts import ChatPromptTemplate, MessagesPlaceholder\n",
    "from langchain.schema import AgentAction, AgentFinish, HumanMessage, AIMessage\n",
    "from langchain.schema import BaseMessage, BaseOutputParser, OutputParserException\n",
    "from langchain.schema import LLMResult\n",
    "from langchain.utils.input import print_text\n",
    "\n",
    "import os\n",
    "import re\n",
    "import sys\n",
    "from typing import (\n",
    "    Any,\n",
    "    Dict,\n",
    "    List,\n",
    "    Union,\n",
    "    Optional\n",
    ")\n",
    "\n",
    "import json\n",
    "import logging\n",
    "import re\n",
    "from typing import Union\n",
    "\n",
    "from langchain.agents.agent import AgentOutputParser\n",
    "from langchain.agents.chat.prompt import FORMAT_INSTRUCTIONS\n",
    "from langchain.schema import AgentAction, AgentFinish, OutputParserException\n",
    "from langchain.output_parsers.json import parse_json_markdown\n",
    "\n"
   ]
  },
  {
   "cell_type": "markdown",
   "metadata": {},
   "source": []
  },
  {
   "cell_type": "code",
   "execution_count": null,
   "metadata": {},
   "outputs": [
    {
     "ename": "NameError",
     "evalue": "name 'BaseOutputParser' is not defined",
     "output_type": "error",
     "traceback": [
      "\u001b[0;31m---------------------------------------------------------------------------\u001b[0m",
      "\u001b[0;31mNameError\u001b[0m                                 Traceback (most recent call last)",
      "\u001b[1;32m/Users/gburns/Documents/Coding/ChatGPT_etc/alzhazen/nbs/30_general_langchain_utils.ipynb Cell 4\u001b[0m line \u001b[0;36m3\n\u001b[1;32m      <a href='vscode-notebook-cell:/Users/gburns/Documents/Coding/ChatGPT_etc/alzhazen/nbs/30_general_langchain_utils.ipynb#W3sZmlsZQ%3D%3D?line=0'>1</a>\u001b[0m \u001b[39m#| export\u001b[39;00m\n\u001b[0;32m----> <a href='vscode-notebook-cell:/Users/gburns/Documents/Coding/ChatGPT_etc/alzhazen/nbs/30_general_langchain_utils.ipynb#W3sZmlsZQ%3D%3D?line=2'>3</a>\u001b[0m \u001b[39mclass\u001b[39;00m \u001b[39mJsonEnclosedByTextOutputParser\u001b[39;00m(BaseOutputParser[Any]):\n\u001b[1;32m      <a href='vscode-notebook-cell:/Users/gburns/Documents/Coding/ChatGPT_etc/alzhazen/nbs/30_general_langchain_utils.ipynb#W3sZmlsZQ%3D%3D?line=3'>4</a>\u001b[0m \u001b[39m    \u001b[39m\u001b[39m\"\"\"Parse the output of an LLM call to a JSON object.\"\"\"\u001b[39;00m\n\u001b[1;32m      <a href='vscode-notebook-cell:/Users/gburns/Documents/Coding/ChatGPT_etc/alzhazen/nbs/30_general_langchain_utils.ipynb#W3sZmlsZQ%3D%3D?line=5'>6</a>\u001b[0m     \u001b[39mdef\u001b[39;00m \u001b[39mparse\u001b[39m(\u001b[39mself\u001b[39m, text: \u001b[39mstr\u001b[39m) \u001b[39m-\u001b[39m\u001b[39m>\u001b[39m Any:\n",
      "\u001b[0;31mNameError\u001b[0m: name 'BaseOutputParser' is not defined"
     ]
    }
   ],
   "source": [
    "#| export\n",
    "\n",
    "class JsonEnclosedByTextOutputParser(BaseOutputParser[Any]):\n",
    "    \"\"\"Parse the output of an LLM call to a JSON object.\"\"\"\n",
    "\n",
    "    def parse(self, text: str) -> Any:\n",
    "        text = text.strip()\n",
    "        fixed = re.sub(r'(?<!\\\\)\\\\(?![\"\\\\/bfnrt]|u[0-9a-fA-F]{4})', r'', text)\n",
    "        m = re.search('.*([\\[\\{](.|\\n)*[\\}\\]]).*', fixed, flags=re.M)\n",
    "        \n",
    "        if m:\n",
    "            text1 = m.group(1)\n",
    "\n",
    "            try:\n",
    "                return json.loads(text1)\n",
    "            except json.JSONDecodeError as e:\n",
    "                try:\n",
    "                    # need to make sure all entries in the JSON are quoted\n",
    "                    # so that the JSON parser can parse it\n",
    "                    # e.g. {\"a\": E} -> {\"a\": \"E\"}\n",
    "                    # this is a hack, but it works\n",
    "                    text2 = re.sub(r':\\s*([a-zA-Z0-9_]+)\\s*([,\\]\\}])', r': \"\\1\"\\2', text1)\n",
    "                except json.JSONDecodeError as e1:\n",
    "                    raise OutputParserException(f\"Invalid json output: {text2} \\n\\nderived from\\n\\n {text}\") from e1\n",
    "        else: \n",
    "            raise OutputParserException(f\"Could not find json-formatted data in: {text}\")\n",
    "\n",
    "    @property\n",
    "    def _type(self) -> str:\n",
    "        return \"json_enclosed_by_text_output_parser\"\n",
    "    \n"
   ]
  },
  {
   "cell_type": "code",
   "execution_count": null,
   "metadata": {},
   "outputs": [],
   "source": [
    "#| export\n",
    "\n",
    "class MermaidExtractionOutputParser(BaseOutputParser[Any]):\n",
    "    \"\"\"Parse the output of an LLM call to a JSON object.\"\"\"\n",
    "\n",
    "    def parse(self, text: str) -> Any:\n",
    "        text = text.strip()\n",
    "        m = re.search('.*(```mermaid:.*graph .* ```).*', text, flags=re.M)\n",
    "        if m:\n",
    "            text1 = m.group(1)\n",
    "            return text1\n",
    "        else: \n",
    "            raise OutputParserException(f\"Could not find mermaid-formatted data in: {text}\")\n",
    "\n",
    "    @property\n",
    "    def _type(self) -> str:\n",
    "        return \"json_enclosed_by_text_output_parser\"\n",
    "    \n"
   ]
  }
 ],
 "metadata": {
  "kernelspec": {
   "display_name": "python3",
   "language": "python",
   "name": "python3"
  }
 },
 "nbformat": 4,
 "nbformat_minor": 1
}
