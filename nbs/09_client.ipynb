{
 "cells": [
  {
   "cell_type": "markdown",
   "metadata": {},
   "source": [
    "# Flask Backend\n",
    "\n",
    "> Run a flask back end for the NextJS Client.  "
   ]
  },
  {
   "cell_type": "code",
   "execution_count": 2,
   "metadata": {},
   "outputs": [],
   "source": [
    "#| default_exp backend"
   ]
  },
  {
   "cell_type": "code",
   "execution_count": 3,
   "metadata": {},
   "outputs": [],
   "source": [
    "#| export\n",
    "\n",
    "import sys\n",
    "\n",
    "from flask import Flask, jsonify, make_response, request\n",
    "from flask_cors import CORS\n",
    "from markupsafe import escape\n",
    "import pandas as pd\n",
    "import os\n",
    "import re\n",
    "import json\n",
    "import datetime\n",
    "import numpy as np\n"
   ]
  },
  {
   "cell_type": "code",
   "execution_count": null,
   "metadata": {},
   "outputs": [],
   "source": [
    "#| export "
   ]
  },
  {
   "cell_type": "code",
   "execution_count": 1,
   "metadata": {},
   "outputs": [
    {
     "ename": "NameError",
     "evalue": "name 'Flask' is not defined",
     "output_type": "error",
     "traceback": [
      "\u001b[0;31m---------------------------------------------------------------------------\u001b[0m",
      "\u001b[0;31mNameError\u001b[0m                                 Traceback (most recent call last)",
      "\u001b[1;32m/Users/gburns/Documents/Coding/ChatGPT_etc/alzhazen/nbs/02_client.ipynb Cell 5\u001b[0m line \u001b[0;36m4\n\u001b[1;32m      <a href='vscode-notebook-cell:/Users/gburns/Documents/Coding/ChatGPT_etc/alzhazen/nbs/02_client.ipynb#W5sZmlsZQ%3D%3D?line=0'>1</a>\u001b[0m \u001b[39m#| export\u001b[39;00m\n\u001b[1;32m      <a href='vscode-notebook-cell:/Users/gburns/Documents/Coding/ChatGPT_etc/alzhazen/nbs/02_client.ipynb#W5sZmlsZQ%3D%3D?line=1'>2</a>\u001b[0m \n\u001b[1;32m      <a href='vscode-notebook-cell:/Users/gburns/Documents/Coding/ChatGPT_etc/alzhazen/nbs/02_client.ipynb#W5sZmlsZQ%3D%3D?line=2'>3</a>\u001b[0m \u001b[39m# create and configure the app\u001b[39;00m\n\u001b[0;32m----> <a href='vscode-notebook-cell:/Users/gburns/Documents/Coding/ChatGPT_etc/alzhazen/nbs/02_client.ipynb#W5sZmlsZQ%3D%3D?line=3'>4</a>\u001b[0m app \u001b[39m=\u001b[39m Flask(\u001b[39m__name__\u001b[39m)\n\u001b[1;32m      <a href='vscode-notebook-cell:/Users/gburns/Documents/Coding/ChatGPT_etc/alzhazen/nbs/02_client.ipynb#W5sZmlsZQ%3D%3D?line=4'>5</a>\u001b[0m CORS(app)\n\u001b[1;32m      <a href='vscode-notebook-cell:/Users/gburns/Documents/Coding/ChatGPT_etc/alzhazen/nbs/02_client.ipynb#W5sZmlsZQ%3D%3D?line=6'>7</a>\u001b[0m \u001b[39m@app\u001b[39m\u001b[39m.\u001b[39mroute(\u001b[39m'\u001b[39m\u001b[39m/chat\u001b[39m\u001b[39m'\u001b[39m, methods\u001b[39m=\u001b[39m[\u001b[39m'\u001b[39m\u001b[39mPOST\u001b[39m\u001b[39m'\u001b[39m])\n\u001b[1;32m      <a href='vscode-notebook-cell:/Users/gburns/Documents/Coding/ChatGPT_etc/alzhazen/nbs/02_client.ipynb#W5sZmlsZQ%3D%3D?line=7'>8</a>\u001b[0m \u001b[39mdef\u001b[39;00m \u001b[39mcount_papers\u001b[39m():\n",
      "\u001b[0;31mNameError\u001b[0m: name 'Flask' is not defined"
     ]
    }
   ],
   "source": [
    "#| export\n",
    "\n",
    "# create and configure the app\n",
    "app = Flask(__name__)\n",
    "CORS(app)\n",
    "\n",
    "@app.route('/chat', methods=['POST'])\n",
    "def count_papers():\n",
    "    chat_history = request.json.get('history')\n",
    "\n",
    "    cols = ['id','paper_count']\n",
    "    print(sql, file=sys.stderr)\n",
    "    return run_query(cs, prefix, sql, cols)\n",
    "\n",
    "@app.route('/api/list_corpora/<prefix>', methods=['GET'])\n",
    "def list_corpora(prefix):\n",
    "    #cs = get_cursor(sf)\n",
    "    #sql1 = '''SELECT DISTINCT d.ID, CORPUS_NAME\n",
    "    #        FROM PREFIX_CORPUS as d\n",
    "    #        JOIN PREFIX_CORPUS_TO_PAPER as dp on (d.ID=dp.ID_CORPUS)\n",
    "    #        JOIN FIVETRAN.KG_RDS_CORE_DB.PAPER as p on (p.ID=dp.ID_PAPER)\n",
    "    #    GROUP BY d.ID, CORPUS_NAME\n",
    "    #    ORDER BY d.ID + 0;\n",
    "    #'''\n",
    "    #cols1 = ['id','label']\n",
    "    #sql1 = re.sub('PREFIX_', prefix, sql1)\n",
    "    #try:\n",
    "    #    df = sf.execute_query(cs, sql1, cols1)\n",
    "    #except ProgrammingError as pErr:\n",
    "    #    if 'does not exist or not authorized ' in pErr.args[0]:\n",
    "    #        print(pErr + ' - UNDERLYING DB TABLES ARE MISSING - RETURN EMPTY DATA')\n",
    "    #        return make_response({})\n",
    "    #    else:\n",
    "    #        raise pErr\n",
    "    #data = df.to_dict('records')\n",
    "    response = make_response(jsonify({'hello': 'world'}))\n",
    "    return response"
   ]
  }
 ],
 "metadata": {
  "kernelspec": {
   "display_name": "python3",
   "language": "python",
   "name": "python3"
  },
  "language_info": {
   "codemirror_mode": {
    "name": "ipython",
    "version": 3
   },
   "file_extension": ".py",
   "mimetype": "text/x-python",
   "name": "python",
   "nbconvert_exporter": "python",
   "pygments_lexer": "ipython3",
   "version": "3.11.4"
  }
 },
 "nbformat": 4,
 "nbformat_minor": 4
}
