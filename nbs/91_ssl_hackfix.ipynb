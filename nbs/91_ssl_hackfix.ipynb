{
 "cells": [
  {
   "cell_type": "code",
   "execution_count": null,
   "metadata": {},
   "outputs": [
    {
     "name": "stdout",
     "output_type": "stream",
     "text": [
      " -- pip install --upgrade certifi\n"
     ]
    },
    {
     "name": "stderr",
     "output_type": "stream",
     "text": [
      "\u001b[33mDEPRECATION: Loading egg at /Users/gburns/miniconda3/envs/alhazen/lib/python3.11/site-packages/sympy-1.12-py3.11.egg is deprecated. pip 23.3 will enforce this behaviour change. A possible replacement is to use pip for package installation..\u001b[0m\u001b[33m\n",
      "\u001b[0m\u001b[33mDEPRECATION: Loading egg at /Users/gburns/miniconda3/envs/alhazen/lib/python3.11/site-packages/networkx-3.1-py3.11.egg is deprecated. pip 23.3 will enforce this behaviour change. A possible replacement is to use pip for package installation..\u001b[0m\u001b[33m\n",
      "\u001b[0m\u001b[33mDEPRECATION: Loading egg at /Users/gburns/miniconda3/envs/alhazen/lib/python3.11/site-packages/regex-2023.6.3-py3.11-macosx-11.1-arm64.egg is deprecated. pip 23.3 will enforce this behaviour change. A possible replacement is to use pip for package installation..\u001b[0m\u001b[33m\n",
      "\u001b[0m\u001b[33mDEPRECATION: Loading egg at /Users/gburns/miniconda3/envs/alhazen/lib/python3.11/site-packages/safetensors-0.3.2rc1-py3.11-macosx-11.1-arm64.egg is deprecated. pip 23.3 will enforce this behaviour change. A possible replacement is to use pip for package installation..\u001b[0m\u001b[33m\n",
      "\u001b[0m\u001b[33mDEPRECATION: Loading egg at /Users/gburns/miniconda3/envs/alhazen/lib/python3.11/site-packages/mpmath-1.3.0-py3.11.egg is deprecated. pip 23.3 will enforce this behaviour change. A possible replacement is to use pip for package installation..\u001b[0m\u001b[33m\n",
      "\u001b[0m\u001b[33mDEPRECATION: Loading egg at /Users/gburns/miniconda3/envs/alhazen/lib/python3.11/site-packages/mlc_llm-0.1.dev333+g2440594-py3.11.egg is deprecated. pip 23.3 will enforce this behaviour change. A possible replacement is to use pip for package installation..\u001b[0m\u001b[33m\n",
      "\u001b[0m"
     ]
    },
    {
     "name": "stdout",
     "output_type": "stream",
     "text": [
      "Requirement already satisfied: certifi in /Users/gburns/miniconda3/envs/alhazen/lib/python3.11/site-packages (2023.11.17)\n",
      " -- removing any existing file or link\n",
      " -- creating symlink to certifi certificate bundle\n"
     ]
    }
   ],
   "source": [
    "# install_certifi.py\n",
    "#\n",
    "# sample script to install or update a set of default Root Certificates\n",
    "# for the ssl module.  Uses the certificates provided by the certifi package:\n",
    "#       https://pypi.python.org/pypi/certifi\n",
    "\n",
    "import os\n",
    "import os.path\n",
    "import ssl\n",
    "import stat\n",
    "import subprocess\n",
    "import sys\n",
    "\n",
    "STAT_0o775 = ( stat.S_IRUSR | stat.S_IWUSR | stat.S_IXUSR\n",
    "             | stat.S_IRGRP | stat.S_IWGRP | stat.S_IXGRP\n",
    "             | stat.S_IROTH |                stat.S_IXOTH )\n",
    "\n",
    "\n",
    "def main():\n",
    "    openssl_dir, openssl_cafile = os.path.split(\n",
    "        ssl.get_default_verify_paths().openssl_cafile)\n",
    "\n",
    "    print(\" -- pip install --upgrade certifi\")\n",
    "    subprocess.check_call([sys.executable,\n",
    "        \"-E\", \"-s\", \"-m\", \"pip\", \"install\", \"--upgrade\", \"certifi\"])\n",
    "\n",
    "    import certifi\n",
    "\n",
    "    # change working directory to the default SSL directory\n",
    "    os.chdir(openssl_dir)\n",
    "    relpath_to_certifi_cafile = os.path.relpath(certifi.where())\n",
    "    print(\" -- removing any existing file or link\")\n",
    "    try:\n",
    "        os.remove(openssl_cafile)\n",
    "    except FileNotFoundError:\n",
    "        pass\n",
    "    print(\" -- creating symlink to certifi certificate bundle\")\n",
    "    os.symlink(relpath_to_certifi_cafile, openssl_cafile)\n",
    "    print(\" -- setting permissions\")\n",
    "    os.chmod(openssl_cafile, STAT_0o775)\n",
    "    print(\" -- update complete\")\n",
    "\n",
    "if __name__ == '__main__':\n",
    "    main()"
   ]
  }
 ],
 "metadata": {
  "kernelspec": {
   "display_name": "python3",
   "language": "python",
   "name": "python3"
  }
 },
 "nbformat": 4,
 "nbformat_minor": 2
}
