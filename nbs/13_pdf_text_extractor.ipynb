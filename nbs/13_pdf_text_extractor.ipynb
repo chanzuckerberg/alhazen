{
 "cells": [
  {
   "cell_type": "markdown",
   "metadata": {},
   "source": [
    "# PDF Text Extractor Utility\n",
    "\n",
    "> Extracts unstructured text from PDF Files. This is intentionally bare bones and does not attempt to extract tables, images, or other data from PDFs. It is intended to be used as a preprocessing step for other NLP tasks."
   ]
  },
  {
   "cell_type": "code",
   "execution_count": 1,
   "metadata": {},
   "outputs": [],
   "source": [
    "#| default_exp utils.pdf_text_extractor"
   ]
  },
  {
   "cell_type": "code",
   "execution_count": 4,
   "metadata": {},
   "outputs": [],
   "source": [
    "#| export\n",
    "\n",
    "'''from pypdf import PdfReader\n",
    "import dataclasses\n",
    "from typing import List, Tuple, Any, Dict\n",
    "'''"
   ]
  },
  {
   "cell_type": "code",
   "execution_count": 5,
   "metadata": {},
   "outputs": [],
   "source": [
    "#| export\n",
    "'''\n",
    "@dataclasses.dataclass\n",
    "class PdfDoc:\n",
    "    \"\"\"A class that provides structure for full text papers specified under the JATS 'nxml' format.\"\"\"\n",
    "\n",
    "    # The location of the file\n",
    "    url: str\n",
    "\n",
    "    # The identifier of the paper\n",
    "    ft_id: str\n",
    "\n",
    "    # Plain text of the paper's contents\n",
    "    text: str\n",
    "      \n",
    "    def __init__(self, ft_id, url):\n",
    "        self.ft_id = ft_id\n",
    "\n",
    "        reader = PdfReader(url)\n",
    "        number_of_pages = len(reader.pages)\n",
    "        text = ''\n",
    "        for p in reader.pages:\n",
    "            text += p.extract_text()\n",
    "        self.text = text\n",
    "'''"
   ]
  }
 ],
 "metadata": {
  "kernelspec": {
   "display_name": "alhazen",
   "language": "python",
   "name": "python3"
  },
  "language_info": {
   "codemirror_mode": {
    "name": "ipython",
    "version": 3
   },
   "file_extension": ".py",
   "mimetype": "text/x-python",
   "name": "python",
   "nbconvert_exporter": "python",
   "pygments_lexer": "ipython3",
   "version": "3.11.4"
  },
  "orig_nbformat": 4
 },
 "nbformat": 4,
 "nbformat_minor": 2
}
